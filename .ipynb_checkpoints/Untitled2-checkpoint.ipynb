{
 "cells": [
  {
   "cell_type": "code",
   "execution_count": null,
   "id": "06803321",
   "metadata": {},
   "outputs": [],
   "source": [
    "import pandas as pd\n",
    "import numpy as np\n",
    "\n",
    "df = pd.read_csv(\"Data/AviationDataClean.csv\")\n",
    "df[\"Make-Model\"] = df[\"Make\"]+\"-\"+df[\"Model\"]\n",
    "df"
   ]
  },
  {
   "cell_type": "code",
   "execution_count": null,
   "id": "4fcd6c34",
   "metadata": {},
   "outputs": [],
   "source": [
    "df1 = pd.DataFrame([[\"Cessa 152\", 2],\n",
    "                  [\"Cessa 152\", 2],[\"Cessa 152\", 2],\n",
    "                   [\"Cessa 501\", np.NaN],\n",
    "                  [\"Cessa 501\", 1],\n",
    "                  ],columns=[\"Make-Model\",\"Number.of.Engines\"])\n",
    "\n",
    "df1"
   ]
  },
  {
   "cell_type": "code",
   "execution_count": null,
   "id": "681a2b6b",
   "metadata": {},
   "outputs": [],
   "source": [
    "lookup=df[[\"Make-Model\",\"Number.of.Engines\"]].groupby(\"Make-Model\").median()\n",
    "lookup"
   ]
  },
  {
   "cell_type": "code",
   "execution_count": null,
   "id": "d7930399",
   "metadata": {},
   "outputs": [],
   "source": [
    "df.info()"
   ]
  },
  {
   "cell_type": "code",
   "execution_count": null,
   "id": "4e1d34d9",
   "metadata": {},
   "outputs": [],
   "source": [
    "df = df.dropna(subset=\"Make-Model\")\n",
    "df.loc[\"Number.of.Engines\"] = df[\"Make-Model\"].map(lambda x: lookup.loc[x])\n"
   ]
  },
  {
   "cell_type": "code",
   "execution_count": null,
   "id": "7c492d7b",
   "metadata": {},
   "outputs": [],
   "source": [
    "import seaborn as sns\n",
    "\n",
    "sns.histplot(data=df,x=\"Number.of.Engines\")"
   ]
  },
  {
   "cell_type": "code",
   "execution_count": null,
   "id": "3449bfb6",
   "metadata": {},
   "outputs": [],
   "source": []
  }
 ],
 "metadata": {
  "kernelspec": {
   "display_name": "Python (learn-env)",
   "language": "python",
   "name": "learn-env"
  },
  "language_info": {
   "codemirror_mode": {
    "name": "ipython",
    "version": 3
   },
   "file_extension": ".py",
   "mimetype": "text/x-python",
   "name": "python",
   "nbconvert_exporter": "python",
   "pygments_lexer": "ipython3",
   "version": "3.9.16"
  }
 },
 "nbformat": 4,
 "nbformat_minor": 5
}
