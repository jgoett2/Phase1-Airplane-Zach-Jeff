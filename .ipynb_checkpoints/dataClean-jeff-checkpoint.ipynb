{
 "cells": [
  {
   "cell_type": "markdown",
   "id": "be538398",
   "metadata": {},
   "source": [
    "# Data Cleaning the CSV File"
   ]
  }
 ],
 "metadata": {
  "kernelspec": {
   "display_name": "Python (learn-env)",
   "language": "python",
   "name": "learn-env"
  },
  "language_info": {
   "codemirror_mode": {
    "name": "ipython",
    "version": 3
   },
   "file_extension": ".py",
   "mimetype": "text/x-python",
   "name": "python",
   "nbconvert_exporter": "python",
   "pygments_lexer": "ipython3",
   "version": "3.9.16"
  }
 },
 "nbformat": 4,
 "nbformat_minor": 5
}
