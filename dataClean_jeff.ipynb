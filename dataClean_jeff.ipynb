{
  "cells": [
    {
      "cell_type": "markdown",
      "metadata": {
        "id": "view-in-github",
        "colab_type": "text"
      },
      "source": [
        "<a href=\"https://colab.research.google.com/github/jgoett2/Phase1-Airplane-Zach-Jeff/blob/main/dataClean_jeff.ipynb\" target=\"_parent\"><img src=\"https://colab.research.google.com/assets/colab-badge.svg\" alt=\"Open In Colab\"/></a>"
      ]
    },
    {
      "cell_type": "markdown",
      "id": "be538398",
      "metadata": {
        "id": "be538398"
      },
      "source": [
        "# Data Cleaning the CSV File"
      ]
    },
    {
      "cell_type": "code",
      "source": [],
      "metadata": {
        "id": "vxd_mEhKMb2r"
      },
      "id": "vxd_mEhKMb2r",
      "execution_count": null,
      "outputs": []
    },
    {
      "cell_type": "markdown",
      "source": [
        "This was added in Google Colab!"
      ],
      "metadata": {
        "id": "UOUCYUiUMc1u"
      },
      "id": "UOUCYUiUMc1u"
    },
    {
      "cell_type": "code",
      "source": [
        "import pandas as pd"
      ],
      "metadata": {
        "id": "5dpGGBGaNDFp"
      },
      "id": "5dpGGBGaNDFp",
      "execution_count": 2,
      "outputs": []
    },
    {
      "cell_type": "code",
      "source": [
        "df = pd.read_csv(\"https://github.com/jgoett2/Phase1-Airplane-Zach-Jeff/raw/main/Data/AviationData.csv\", encoding=\"latin1\")"
      ],
      "metadata": {
        "colab": {
          "base_uri": "https://localhost:8080/"
        },
        "id": "PmbYEl01NGUf",
        "outputId": "937291f9-fbf1-4b8d-cbfc-1208b5e87f0a"
      },
      "id": "PmbYEl01NGUf",
      "execution_count": 4,
      "outputs": [
        {
          "output_type": "stream",
          "name": "stderr",
          "text": [
            "<ipython-input-4-4852a6366eac>:1: DtypeWarning: Columns (6,7,28) have mixed types. Specify dtype option on import or set low_memory=False.\n",
            "  df = pd.read_csv(\"https://github.com/jgoett2/Phase1-Airplane-Zach-Jeff/raw/main/Data/AviationData.csv\", encoding=\"latin1\")\n"
          ]
        }
      ]
    },
    {
      "cell_type": "code",
      "source": [
        "Hi!"
      ],
      "metadata": {
        "id": "2Atm-yMjNIxL"
      },
      "id": "2Atm-yMjNIxL",
      "execution_count": null,
      "outputs": []
    }
  ],
  "metadata": {
    "kernelspec": {
      "display_name": "Python (learn-env)",
      "language": "python",
      "name": "learn-env"
    },
    "language_info": {
      "codemirror_mode": {
        "name": "ipython",
        "version": 3
      },
      "file_extension": ".py",
      "mimetype": "text/x-python",
      "name": "python",
      "nbconvert_exporter": "python",
      "pygments_lexer": "ipython3",
      "version": "3.9.16"
    },
    "colab": {
      "provenance": [],
      "include_colab_link": true
    }
  },
  "nbformat": 4,
  "nbformat_minor": 5
}