{
 "cells": [
  {
   "cell_type": "code",
   "execution_count": 1,
   "metadata": {},
   "outputs": [],
   "source": [
    "import pandas as pd\n",
    "import numpy as np\n",
    "import matplotlib.pyplot as plt\n",
    "import seaborn as sns\n",
    "import scr.code as scd"
   ]
  },
  {
   "cell_type": "code",
   "execution_count": 2,
   "metadata": {},
   "outputs": [
    {
     "name": "stdout",
     "output_type": "stream",
     "text": [
      "<class 'pandas.core.frame.DataFrame'>\n",
      "Index: 48600 entries, 1 to 88877\n",
      "Data columns (total 37 columns):\n",
      " #   Column                  Non-Null Count  Dtype  \n",
      "---  ------                  --------------  -----  \n",
      " 0   Event.Id                48600 non-null  object \n",
      " 1   Investigation.Type      48600 non-null  object \n",
      " 2   Accident.Number         48600 non-null  object \n",
      " 3   Event.Date              48600 non-null  object \n",
      " 4   Location                48589 non-null  object \n",
      " 5   Country                 48461 non-null  object \n",
      " 6   Latitude                16410 non-null  object \n",
      " 7   Longitude               16409 non-null  object \n",
      " 8   Airport.Code            29889 non-null  object \n",
      " 9   Airport.Name            31427 non-null  object \n",
      " 10  Injury.Severity         48571 non-null  object \n",
      " 11  Aircraft.damage         48405 non-null  object \n",
      " 12  Aircraft.Category       14786 non-null  object \n",
      " 13  Registration.Number     48585 non-null  object \n",
      " 14  Make                    48600 non-null  object \n",
      " 15  Model                   48596 non-null  object \n",
      " 16  Amateur.Built           48590 non-null  object \n",
      " 17  Number.of.Engines       48600 non-null  float64\n",
      " 18  Engine.Type             47533 non-null  object \n",
      " 19  FAR.Description         14763 non-null  object \n",
      " 20  Schedule                3944 non-null   object \n",
      " 21  Purpose.of.flight       47651 non-null  object \n",
      " 22  Air.carrier             6926 non-null   object \n",
      " 23  Total.Fatal.Injuries    48600 non-null  float64\n",
      " 24  Total.Serious.Injuries  48600 non-null  float64\n",
      " 25  Total.Minor.Injuries    48600 non-null  float64\n",
      " 26  Total.Uninjured         48600 non-null  float64\n",
      " 27  Weather.Condition       48061 non-null  object \n",
      " 28  Broad.phase.of.flight   38103 non-null  object \n",
      " 29  Report.Status           47023 non-null  object \n",
      " 30  Publication.Date        40189 non-null  object \n",
      " 31  Survive                 48600 non-null  bool   \n",
      " 32  total.passengers        48600 non-null  float64\n",
      " 33  Month                   48600 non-null  int64  \n",
      " 34  Year                    48600 non-null  int64  \n",
      " 35  Fraction_fatal          48565 non-null  float64\n",
      " 36  Fraction_uninjured      48565 non-null  float64\n",
      "dtypes: bool(1), float64(8), int64(2), object(26)\n",
      "memory usage: 13.8+ MB\n"
     ]
    },
    {
     "name": "stderr",
     "output_type": "stream",
     "text": [
      "/var/folders/0_/jyfznr0x5q53rj2pvwf26qbw0000gn/T/ipykernel_52366/734652658.py:1: DtypeWarning: Columns (7,8) have mixed types. Specify dtype option on import or set low_memory=False.\n",
      "  df = pd.read_csv(\"Data/AviationDataClean.csv\", index_col=0)\n"
     ]
    }
   ],
   "source": [
    "df = pd.read_csv(\"Data/AviationDataClean.csv\", index_col=0)\n",
    "df.info()"
   ]
  },
  {
   "cell_type": "code",
   "execution_count": 3,
   "metadata": {},
   "outputs": [],
   "source": [
    "df = df.dropna(subset='Model')"
   ]
  },
  {
   "cell_type": "code",
   "execution_count": 4,
   "metadata": {},
   "outputs": [
    {
     "data": {
      "text/html": [
       "<div>\n",
       "<style scoped>\n",
       "    .dataframe tbody tr th:only-of-type {\n",
       "        vertical-align: middle;\n",
       "    }\n",
       "\n",
       "    .dataframe tbody tr th {\n",
       "        vertical-align: top;\n",
       "    }\n",
       "\n",
       "    .dataframe thead th {\n",
       "        text-align: right;\n",
       "    }\n",
       "</style>\n",
       "<table border=\"1\" class=\"dataframe\">\n",
       "  <thead>\n",
       "    <tr style=\"text-align: right;\">\n",
       "      <th></th>\n",
       "      <th>1</th>\n",
       "      <th>2</th>\n",
       "      <th>6</th>\n",
       "      <th>7</th>\n",
       "      <th>8</th>\n",
       "    </tr>\n",
       "  </thead>\n",
       "  <tbody>\n",
       "    <tr>\n",
       "      <th>Event.Id</th>\n",
       "      <td>20001218X45447</td>\n",
       "      <td>20061025X01555</td>\n",
       "      <td>20001218X45446</td>\n",
       "      <td>20020909X01562</td>\n",
       "      <td>20020909X01561</td>\n",
       "    </tr>\n",
       "    <tr>\n",
       "      <th>Investigation.Type</th>\n",
       "      <td>Accident</td>\n",
       "      <td>Accident</td>\n",
       "      <td>Accident</td>\n",
       "      <td>Accident</td>\n",
       "      <td>Accident</td>\n",
       "    </tr>\n",
       "    <tr>\n",
       "      <th>Accident.Number</th>\n",
       "      <td>LAX94LA336</td>\n",
       "      <td>NYC07LA005</td>\n",
       "      <td>CHI81LA106</td>\n",
       "      <td>SEA82DA022</td>\n",
       "      <td>NYC82DA015</td>\n",
       "    </tr>\n",
       "    <tr>\n",
       "      <th>Event.Date</th>\n",
       "      <td>1962-07-19</td>\n",
       "      <td>1974-08-30</td>\n",
       "      <td>1981-08-01</td>\n",
       "      <td>1982-01-01</td>\n",
       "      <td>1982-01-01</td>\n",
       "    </tr>\n",
       "    <tr>\n",
       "      <th>Location</th>\n",
       "      <td>BRIDGEPORT, CA</td>\n",
       "      <td>Saltville, VA</td>\n",
       "      <td>COTTON, MN</td>\n",
       "      <td>PULLMAN, WA</td>\n",
       "      <td>EAST HANOVER, NJ</td>\n",
       "    </tr>\n",
       "    <tr>\n",
       "      <th>Country</th>\n",
       "      <td>United States</td>\n",
       "      <td>United States</td>\n",
       "      <td>United States</td>\n",
       "      <td>United States</td>\n",
       "      <td>United States</td>\n",
       "    </tr>\n",
       "    <tr>\n",
       "      <th>Latitude</th>\n",
       "      <td>NaN</td>\n",
       "      <td>36.922223</td>\n",
       "      <td>NaN</td>\n",
       "      <td>NaN</td>\n",
       "      <td>NaN</td>\n",
       "    </tr>\n",
       "    <tr>\n",
       "      <th>Longitude</th>\n",
       "      <td>NaN</td>\n",
       "      <td>-81.878056</td>\n",
       "      <td>NaN</td>\n",
       "      <td>NaN</td>\n",
       "      <td>NaN</td>\n",
       "    </tr>\n",
       "    <tr>\n",
       "      <th>Airport.Code</th>\n",
       "      <td>NaN</td>\n",
       "      <td>NaN</td>\n",
       "      <td>NaN</td>\n",
       "      <td>NaN</td>\n",
       "      <td>N58</td>\n",
       "    </tr>\n",
       "    <tr>\n",
       "      <th>Airport.Name</th>\n",
       "      <td>NaN</td>\n",
       "      <td>NaN</td>\n",
       "      <td>NaN</td>\n",
       "      <td>BLACKBURN AG STRIP</td>\n",
       "      <td>HANOVER</td>\n",
       "    </tr>\n",
       "    <tr>\n",
       "      <th>Injury.Severity</th>\n",
       "      <td>Fatal(4)</td>\n",
       "      <td>Fatal(3)</td>\n",
       "      <td>Fatal(4)</td>\n",
       "      <td>Non-Fatal</td>\n",
       "      <td>Non-Fatal</td>\n",
       "    </tr>\n",
       "    <tr>\n",
       "      <th>Aircraft.damage</th>\n",
       "      <td>Destroyed</td>\n",
       "      <td>Destroyed</td>\n",
       "      <td>Destroyed</td>\n",
       "      <td>Substantial</td>\n",
       "      <td>Substantial</td>\n",
       "    </tr>\n",
       "    <tr>\n",
       "      <th>Aircraft.Category</th>\n",
       "      <td>NaN</td>\n",
       "      <td>NaN</td>\n",
       "      <td>NaN</td>\n",
       "      <td>Airplane</td>\n",
       "      <td>Airplane</td>\n",
       "    </tr>\n",
       "    <tr>\n",
       "      <th>Registration.Number</th>\n",
       "      <td>N5069P</td>\n",
       "      <td>N5142R</td>\n",
       "      <td>N4988E</td>\n",
       "      <td>N2482N</td>\n",
       "      <td>N7967Q</td>\n",
       "    </tr>\n",
       "    <tr>\n",
       "      <th>Make</th>\n",
       "      <td>Piper</td>\n",
       "      <td>Cessna</td>\n",
       "      <td>Cessna</td>\n",
       "      <td>Cessna</td>\n",
       "      <td>Cessna</td>\n",
       "    </tr>\n",
       "    <tr>\n",
       "      <th>Model</th>\n",
       "      <td>PA24-180</td>\n",
       "      <td>172M</td>\n",
       "      <td>180</td>\n",
       "      <td>140</td>\n",
       "      <td>401B</td>\n",
       "    </tr>\n",
       "    <tr>\n",
       "      <th>Amateur.Built</th>\n",
       "      <td>No</td>\n",
       "      <td>No</td>\n",
       "      <td>No</td>\n",
       "      <td>No</td>\n",
       "      <td>No</td>\n",
       "    </tr>\n",
       "    <tr>\n",
       "      <th>Number.of.Engines</th>\n",
       "      <td>1.0</td>\n",
       "      <td>1.0</td>\n",
       "      <td>1.0</td>\n",
       "      <td>1.0</td>\n",
       "      <td>2.0</td>\n",
       "    </tr>\n",
       "    <tr>\n",
       "      <th>Engine.Type</th>\n",
       "      <td>Reciprocating</td>\n",
       "      <td>Reciprocating</td>\n",
       "      <td>Reciprocating</td>\n",
       "      <td>Reciprocating</td>\n",
       "      <td>Reciprocating</td>\n",
       "    </tr>\n",
       "    <tr>\n",
       "      <th>FAR.Description</th>\n",
       "      <td>NaN</td>\n",
       "      <td>NaN</td>\n",
       "      <td>NaN</td>\n",
       "      <td>Part 91: General Aviation</td>\n",
       "      <td>Part 91: General Aviation</td>\n",
       "    </tr>\n",
       "    <tr>\n",
       "      <th>Schedule</th>\n",
       "      <td>NaN</td>\n",
       "      <td>NaN</td>\n",
       "      <td>NaN</td>\n",
       "      <td>NaN</td>\n",
       "      <td>NaN</td>\n",
       "    </tr>\n",
       "    <tr>\n",
       "      <th>Purpose.of.flight</th>\n",
       "      <td>Personal</td>\n",
       "      <td>Personal</td>\n",
       "      <td>Personal</td>\n",
       "      <td>Personal</td>\n",
       "      <td>Business</td>\n",
       "    </tr>\n",
       "    <tr>\n",
       "      <th>Air.carrier</th>\n",
       "      <td>NaN</td>\n",
       "      <td>NaN</td>\n",
       "      <td>NaN</td>\n",
       "      <td>NaN</td>\n",
       "      <td>NaN</td>\n",
       "    </tr>\n",
       "    <tr>\n",
       "      <th>Total.Fatal.Injuries</th>\n",
       "      <td>4.0</td>\n",
       "      <td>3.0</td>\n",
       "      <td>4.0</td>\n",
       "      <td>0.0</td>\n",
       "      <td>0.0</td>\n",
       "    </tr>\n",
       "    <tr>\n",
       "      <th>Total.Serious.Injuries</th>\n",
       "      <td>0.0</td>\n",
       "      <td>0.0</td>\n",
       "      <td>0.0</td>\n",
       "      <td>0.0</td>\n",
       "      <td>0.0</td>\n",
       "    </tr>\n",
       "    <tr>\n",
       "      <th>Total.Minor.Injuries</th>\n",
       "      <td>0.0</td>\n",
       "      <td>0.0</td>\n",
       "      <td>0.0</td>\n",
       "      <td>0.0</td>\n",
       "      <td>0.0</td>\n",
       "    </tr>\n",
       "    <tr>\n",
       "      <th>Total.Uninjured</th>\n",
       "      <td>0.0</td>\n",
       "      <td>0.0</td>\n",
       "      <td>0.0</td>\n",
       "      <td>2.0</td>\n",
       "      <td>2.0</td>\n",
       "    </tr>\n",
       "    <tr>\n",
       "      <th>Weather.Condition</th>\n",
       "      <td>UNK</td>\n",
       "      <td>IMC</td>\n",
       "      <td>IMC</td>\n",
       "      <td>VMC</td>\n",
       "      <td>IMC</td>\n",
       "    </tr>\n",
       "    <tr>\n",
       "      <th>Broad.phase.of.flight</th>\n",
       "      <td>Unknown</td>\n",
       "      <td>Cruise</td>\n",
       "      <td>Unknown</td>\n",
       "      <td>Takeoff</td>\n",
       "      <td>Landing</td>\n",
       "    </tr>\n",
       "    <tr>\n",
       "      <th>Report.Status</th>\n",
       "      <td>Probable Cause</td>\n",
       "      <td>Probable Cause</td>\n",
       "      <td>Probable Cause</td>\n",
       "      <td>Probable Cause</td>\n",
       "      <td>Probable Cause</td>\n",
       "    </tr>\n",
       "    <tr>\n",
       "      <th>Publication.Date</th>\n",
       "      <td>19-09-1996</td>\n",
       "      <td>26-02-2007</td>\n",
       "      <td>06-11-2001</td>\n",
       "      <td>01-01-1982</td>\n",
       "      <td>01-01-1982</td>\n",
       "    </tr>\n",
       "    <tr>\n",
       "      <th>Survive</th>\n",
       "      <td>False</td>\n",
       "      <td>False</td>\n",
       "      <td>False</td>\n",
       "      <td>True</td>\n",
       "      <td>True</td>\n",
       "    </tr>\n",
       "    <tr>\n",
       "      <th>total.passengers</th>\n",
       "      <td>4.0</td>\n",
       "      <td>3.0</td>\n",
       "      <td>4.0</td>\n",
       "      <td>2.0</td>\n",
       "      <td>2.0</td>\n",
       "    </tr>\n",
       "    <tr>\n",
       "      <th>Month</th>\n",
       "      <td>7</td>\n",
       "      <td>8</td>\n",
       "      <td>8</td>\n",
       "      <td>1</td>\n",
       "      <td>1</td>\n",
       "    </tr>\n",
       "    <tr>\n",
       "      <th>Year</th>\n",
       "      <td>1962</td>\n",
       "      <td>1974</td>\n",
       "      <td>1981</td>\n",
       "      <td>1982</td>\n",
       "      <td>1982</td>\n",
       "    </tr>\n",
       "    <tr>\n",
       "      <th>Fraction_fatal</th>\n",
       "      <td>1.0</td>\n",
       "      <td>1.0</td>\n",
       "      <td>1.0</td>\n",
       "      <td>0.0</td>\n",
       "      <td>0.0</td>\n",
       "    </tr>\n",
       "    <tr>\n",
       "      <th>Fraction_uninjured</th>\n",
       "      <td>0.0</td>\n",
       "      <td>0.0</td>\n",
       "      <td>0.0</td>\n",
       "      <td>1.0</td>\n",
       "      <td>1.0</td>\n",
       "    </tr>\n",
       "    <tr>\n",
       "      <th>Make_Model</th>\n",
       "      <td>Piper-PA24-180</td>\n",
       "      <td>Cessna-172M</td>\n",
       "      <td>Cessna-180</td>\n",
       "      <td>Cessna-140</td>\n",
       "      <td>Cessna-401B</td>\n",
       "    </tr>\n",
       "  </tbody>\n",
       "</table>\n",
       "</div>"
      ],
      "text/plain": [
       "                                     1               2               6  \\\n",
       "Event.Id                20001218X45447  20061025X01555  20001218X45446   \n",
       "Investigation.Type            Accident        Accident        Accident   \n",
       "Accident.Number             LAX94LA336      NYC07LA005      CHI81LA106   \n",
       "Event.Date                  1962-07-19      1974-08-30      1981-08-01   \n",
       "Location                BRIDGEPORT, CA   Saltville, VA      COTTON, MN   \n",
       "Country                  United States   United States   United States   \n",
       "Latitude                           NaN       36.922223             NaN   \n",
       "Longitude                          NaN      -81.878056             NaN   \n",
       "Airport.Code                       NaN             NaN             NaN   \n",
       "Airport.Name                       NaN             NaN             NaN   \n",
       "Injury.Severity               Fatal(4)        Fatal(3)        Fatal(4)   \n",
       "Aircraft.damage              Destroyed       Destroyed       Destroyed   \n",
       "Aircraft.Category                  NaN             NaN             NaN   \n",
       "Registration.Number             N5069P          N5142R          N4988E   \n",
       "Make                             Piper          Cessna          Cessna   \n",
       "Model                         PA24-180            172M             180   \n",
       "Amateur.Built                       No              No              No   \n",
       "Number.of.Engines                  1.0             1.0             1.0   \n",
       "Engine.Type              Reciprocating   Reciprocating   Reciprocating   \n",
       "FAR.Description                    NaN             NaN             NaN   \n",
       "Schedule                           NaN             NaN             NaN   \n",
       "Purpose.of.flight             Personal        Personal        Personal   \n",
       "Air.carrier                        NaN             NaN             NaN   \n",
       "Total.Fatal.Injuries               4.0             3.0             4.0   \n",
       "Total.Serious.Injuries             0.0             0.0             0.0   \n",
       "Total.Minor.Injuries               0.0             0.0             0.0   \n",
       "Total.Uninjured                    0.0             0.0             0.0   \n",
       "Weather.Condition                  UNK             IMC             IMC   \n",
       "Broad.phase.of.flight          Unknown          Cruise         Unknown   \n",
       "Report.Status           Probable Cause  Probable Cause  Probable Cause   \n",
       "Publication.Date            19-09-1996      26-02-2007      06-11-2001   \n",
       "Survive                          False           False           False   \n",
       "total.passengers                   4.0             3.0             4.0   \n",
       "Month                                7               8               8   \n",
       "Year                              1962            1974            1981   \n",
       "Fraction_fatal                     1.0             1.0             1.0   \n",
       "Fraction_uninjured                 0.0             0.0             0.0   \n",
       "Make_Model              Piper-PA24-180     Cessna-172M      Cessna-180   \n",
       "\n",
       "                                                7                          8  \n",
       "Event.Id                           20020909X01562             20020909X01561  \n",
       "Investigation.Type                       Accident                   Accident  \n",
       "Accident.Number                        SEA82DA022                 NYC82DA015  \n",
       "Event.Date                             1982-01-01                 1982-01-01  \n",
       "Location                              PULLMAN, WA           EAST HANOVER, NJ  \n",
       "Country                             United States              United States  \n",
       "Latitude                                      NaN                        NaN  \n",
       "Longitude                                     NaN                        NaN  \n",
       "Airport.Code                                  NaN                        N58  \n",
       "Airport.Name                   BLACKBURN AG STRIP                    HANOVER  \n",
       "Injury.Severity                         Non-Fatal                  Non-Fatal  \n",
       "Aircraft.damage                       Substantial                Substantial  \n",
       "Aircraft.Category                        Airplane                   Airplane  \n",
       "Registration.Number                        N2482N                     N7967Q  \n",
       "Make                                       Cessna                     Cessna  \n",
       "Model                                         140                       401B  \n",
       "Amateur.Built                                  No                         No  \n",
       "Number.of.Engines                             1.0                        2.0  \n",
       "Engine.Type                         Reciprocating              Reciprocating  \n",
       "FAR.Description         Part 91: General Aviation  Part 91: General Aviation  \n",
       "Schedule                                      NaN                        NaN  \n",
       "Purpose.of.flight                        Personal                   Business  \n",
       "Air.carrier                                   NaN                        NaN  \n",
       "Total.Fatal.Injuries                          0.0                        0.0  \n",
       "Total.Serious.Injuries                        0.0                        0.0  \n",
       "Total.Minor.Injuries                          0.0                        0.0  \n",
       "Total.Uninjured                               2.0                        2.0  \n",
       "Weather.Condition                             VMC                        IMC  \n",
       "Broad.phase.of.flight                     Takeoff                    Landing  \n",
       "Report.Status                      Probable Cause             Probable Cause  \n",
       "Publication.Date                       01-01-1982                 01-01-1982  \n",
       "Survive                                      True                       True  \n",
       "total.passengers                              2.0                        2.0  \n",
       "Month                                           1                          1  \n",
       "Year                                         1982                       1982  \n",
       "Fraction_fatal                                0.0                        0.0  \n",
       "Fraction_uninjured                            1.0                        1.0  \n",
       "Make_Model                             Cessna-140                Cessna-401B  "
      ]
     },
     "execution_count": 4,
     "metadata": {},
     "output_type": "execute_result"
    }
   ],
   "source": [
    "df['Make_Model'] = df[['Make', 'Model']].apply(lambda x: '-'.join(x), axis=1)\n",
    "df.head().T"
   ]
  },
  {
   "cell_type": "code",
   "execution_count": 5,
   "metadata": {},
   "outputs": [],
   "source": [
    "dfC = df[df['Make'] == 'Cessna']"
   ]
  },
  {
   "cell_type": "code",
   "execution_count": 6,
   "metadata": {},
   "outputs": [
    {
     "data": {
      "text/plain": [
       "Index(['Cessna-152', 'Cessna-172', 'Cessna-172N', 'Cessna-150', 'Cessna-172M'], dtype='object', name='Make_Model')"
      ]
     },
     "execution_count": 6,
     "metadata": {},
     "output_type": "execute_result"
    }
   ],
   "source": [
    "CessnaGB = dfC.groupby('Make_Model').count().sort_values(by='Event.Id', ascending=False)\n",
    "top_five = CessnaGB.index[:5]\n",
    "top_five"
   ]
  },
  {
   "cell_type": "code",
   "execution_count": 7,
   "metadata": {},
   "outputs": [],
   "source": [
    "#CessnaGB1 = CessnaGB[CessnaGB['Event.Id'] >= 100]\n",
    "#CessnaGB1.shape\n"
   ]
  },
  {
   "cell_type": "code",
   "execution_count": 8,
   "metadata": {},
   "outputs": [
    {
     "data": {
      "text/html": [
       "<div>\n",
       "<style scoped>\n",
       "    .dataframe tbody tr th:only-of-type {\n",
       "        vertical-align: middle;\n",
       "    }\n",
       "\n",
       "    .dataframe tbody tr th {\n",
       "        vertical-align: top;\n",
       "    }\n",
       "\n",
       "    .dataframe thead th {\n",
       "        text-align: right;\n",
       "    }\n",
       "</style>\n",
       "<table border=\"1\" class=\"dataframe\">\n",
       "  <thead>\n",
       "    <tr style=\"text-align: right;\">\n",
       "      <th></th>\n",
       "      <th>Fraction_fatal</th>\n",
       "    </tr>\n",
       "    <tr>\n",
       "      <th>Make_Model</th>\n",
       "      <th></th>\n",
       "    </tr>\n",
       "  </thead>\n",
       "  <tbody>\n",
       "    <tr>\n",
       "      <th>Cessna-0-1A</th>\n",
       "      <td>0.000000</td>\n",
       "    </tr>\n",
       "    <tr>\n",
       "      <th>Cessna-120</th>\n",
       "      <td>0.069182</td>\n",
       "    </tr>\n",
       "    <tr>\n",
       "      <th>Cessna-140</th>\n",
       "      <td>0.062657</td>\n",
       "    </tr>\n",
       "    <tr>\n",
       "      <th>Cessna-140A</th>\n",
       "      <td>0.081081</td>\n",
       "    </tr>\n",
       "    <tr>\n",
       "      <th>Cessna-145</th>\n",
       "      <td>0.000000</td>\n",
       "    </tr>\n",
       "    <tr>\n",
       "      <th>...</th>\n",
       "      <td>...</td>\n",
       "    </tr>\n",
       "    <tr>\n",
       "      <th>Cessna-U206D</th>\n",
       "      <td>0.000000</td>\n",
       "    </tr>\n",
       "    <tr>\n",
       "      <th>Cessna-U206E</th>\n",
       "      <td>0.281250</td>\n",
       "    </tr>\n",
       "    <tr>\n",
       "      <th>Cessna-U206F</th>\n",
       "      <td>0.237838</td>\n",
       "    </tr>\n",
       "    <tr>\n",
       "      <th>Cessna-U206G</th>\n",
       "      <td>0.197895</td>\n",
       "    </tr>\n",
       "    <tr>\n",
       "      <th>Cessna-U206G II</th>\n",
       "      <td>1.000000</td>\n",
       "    </tr>\n",
       "  </tbody>\n",
       "</table>\n",
       "<p>770 rows × 1 columns</p>\n",
       "</div>"
      ],
      "text/plain": [
       "                 Fraction_fatal\n",
       "Make_Model                     \n",
       "Cessna-0-1A            0.000000\n",
       "Cessna-120             0.069182\n",
       "Cessna-140             0.062657\n",
       "Cessna-140A            0.081081\n",
       "Cessna-145             0.000000\n",
       "...                         ...\n",
       "Cessna-U206D           0.000000\n",
       "Cessna-U206E           0.281250\n",
       "Cessna-U206F           0.237838\n",
       "Cessna-U206G           0.197895\n",
       "Cessna-U206G II        1.000000\n",
       "\n",
       "[770 rows x 1 columns]"
      ]
     },
     "execution_count": 8,
     "metadata": {},
     "output_type": "execute_result"
    }
   ],
   "source": [
    "# Cessna -> Fatal: \n",
    "\n",
    "Cessna_ave_fraction_fatal = dfC[[\"Make_Model\",\"Fraction_fatal\"]].groupby(\"Make_Model\").mean()\n",
    "Cessna_ave_fraction_fatal\n"
   ]
  },
  {
   "cell_type": "code",
   "execution_count": 9,
   "metadata": {},
   "outputs": [
    {
     "data": {
      "text/html": [
       "<div>\n",
       "<style scoped>\n",
       "    .dataframe tbody tr th:only-of-type {\n",
       "        vertical-align: middle;\n",
       "    }\n",
       "\n",
       "    .dataframe tbody tr th {\n",
       "        vertical-align: top;\n",
       "    }\n",
       "\n",
       "    .dataframe thead th {\n",
       "        text-align: right;\n",
       "    }\n",
       "</style>\n",
       "<table border=\"1\" class=\"dataframe\">\n",
       "  <thead>\n",
       "    <tr style=\"text-align: right;\">\n",
       "      <th></th>\n",
       "      <th>Fraction_uninjured</th>\n",
       "    </tr>\n",
       "    <tr>\n",
       "      <th>Make_Model</th>\n",
       "      <th></th>\n",
       "    </tr>\n",
       "  </thead>\n",
       "  <tbody>\n",
       "    <tr>\n",
       "      <th>Cessna-0-1A</th>\n",
       "      <td>1.000000</td>\n",
       "    </tr>\n",
       "    <tr>\n",
       "      <th>Cessna-120</th>\n",
       "      <td>0.713836</td>\n",
       "    </tr>\n",
       "    <tr>\n",
       "      <th>Cessna-140</th>\n",
       "      <td>0.715539</td>\n",
       "    </tr>\n",
       "    <tr>\n",
       "      <th>Cessna-140A</th>\n",
       "      <td>0.743243</td>\n",
       "    </tr>\n",
       "    <tr>\n",
       "      <th>Cessna-145</th>\n",
       "      <td>0.000000</td>\n",
       "    </tr>\n",
       "    <tr>\n",
       "      <th>...</th>\n",
       "      <td>...</td>\n",
       "    </tr>\n",
       "    <tr>\n",
       "      <th>Cessna-U206D</th>\n",
       "      <td>1.000000</td>\n",
       "    </tr>\n",
       "    <tr>\n",
       "      <th>Cessna-U206E</th>\n",
       "      <td>0.473958</td>\n",
       "    </tr>\n",
       "    <tr>\n",
       "      <th>Cessna-U206F</th>\n",
       "      <td>0.531982</td>\n",
       "    </tr>\n",
       "    <tr>\n",
       "      <th>Cessna-U206G</th>\n",
       "      <td>0.542982</td>\n",
       "    </tr>\n",
       "    <tr>\n",
       "      <th>Cessna-U206G II</th>\n",
       "      <td>0.000000</td>\n",
       "    </tr>\n",
       "  </tbody>\n",
       "</table>\n",
       "<p>770 rows × 1 columns</p>\n",
       "</div>"
      ],
      "text/plain": [
       "                 Fraction_uninjured\n",
       "Make_Model                         \n",
       "Cessna-0-1A                1.000000\n",
       "Cessna-120                 0.713836\n",
       "Cessna-140                 0.715539\n",
       "Cessna-140A                0.743243\n",
       "Cessna-145                 0.000000\n",
       "...                             ...\n",
       "Cessna-U206D               1.000000\n",
       "Cessna-U206E               0.473958\n",
       "Cessna-U206F               0.531982\n",
       "Cessna-U206G               0.542982\n",
       "Cessna-U206G II            0.000000\n",
       "\n",
       "[770 rows x 1 columns]"
      ]
     },
     "execution_count": 9,
     "metadata": {},
     "output_type": "execute_result"
    }
   ],
   "source": [
    "Cessna_ave_fraction_u = dfC[[\"Make_Model\",\"Fraction_uninjured\"]].groupby(\"Make_Model\").mean()\n",
    "Cessna_ave_fraction_u"
   ]
  },
  {
   "cell_type": "code",
   "execution_count": 10,
   "metadata": {},
   "outputs": [
    {
     "name": "stderr",
     "output_type": "stream",
     "text": [
      "/var/folders/0_/jyfznr0x5q53rj2pvwf26qbw0000gn/T/ipykernel_52366/140394494.py:1: FutureWarning: Calling float on a single element Series is deprecated and will raise a TypeError in the future. Use float(ser.iloc[0]) instead\n",
      "  x = pd.DataFrame([(x, float(Cessna_ave_fraction_fatal.loc[x])) for x in top_five]).sort_values(by=1)\n"
     ]
    }
   ],
   "source": [
    "x = pd.DataFrame([(x, float(Cessna_ave_fraction_fatal.loc[x])) for x in top_five]).sort_values(by=1)\n"
   ]
  },
  {
   "cell_type": "code",
   "execution_count": 11,
   "metadata": {},
   "outputs": [
    {
     "data": {
      "text/plain": [
       "[<matplotlib.axis.YTick at 0x16b4d59d0>,\n",
       " <matplotlib.axis.YTick at 0x16b4d5460>,\n",
       " <matplotlib.axis.YTick at 0x16b2e8920>,\n",
       " <matplotlib.axis.YTick at 0x16b2292b0>,\n",
       " <matplotlib.axis.YTick at 0x16b229c40>,\n",
       " <matplotlib.axis.YTick at 0x16b22a630>,\n",
       " <matplotlib.axis.YTick at 0x16b2ebfb0>,\n",
       " <matplotlib.axis.YTick at 0x16b22ae10>,\n",
       " <matplotlib.axis.YTick at 0x16b22b7a0>,\n",
       " <matplotlib.axis.YTick at 0x16b22bd40>,\n",
       " <matplotlib.axis.YTick at 0x16b4d4ce0>,\n",
       " <matplotlib.axis.YTick at 0x16b1c9550>,\n",
       " <matplotlib.axis.YTick at 0x16b22afc0>]"
      ]
     },
     "execution_count": 11,
     "metadata": {},
     "output_type": "execute_result"
    },
    {
     "data": {
      "image/png": "[encoded data removed]",
      "text/plain": [
       "<Figure size 1000x400 with 1 Axes>"
      ]
     },
     "metadata": {},
     "output_type": "display_data"
    }
   ],
   "source": [
    "fig, ax = plt.subplots(figsize = (10,4))\n",
    "\n",
    "sns.barplot(data=x, x=0, y = 1)\n",
    "ax.set_yticks(np.arange(0,0.26, 0.02))"
   ]
  },
  {
   "cell_type": "code",
   "execution_count": 12,
   "metadata": {},
   "outputs": [],
   "source": [
    "dfB = df[df['Make'] == 'Bell']"
   ]
  },
  {
   "cell_type": "code",
   "execution_count": 13,
   "metadata": {},
   "outputs": [
    {
     "data": {
      "text/plain": [
       "Index(['Bell-206B', 'Bell-206L-1', 'Bell-206', 'Bell-47G', 'Bell-407'], dtype='object', name='Make_Model')"
      ]
     },
     "execution_count": 13,
     "metadata": {},
     "output_type": "execute_result"
    }
   ],
   "source": [
    "BellGB = dfB.groupby('Make_Model').count().sort_values(by='Event.Id', ascending=False)\n",
    "top_five = BellGB.index[:5]\n",
    "top_five"
   ]
  },
  {
   "cell_type": "code",
   "execution_count": 14,
   "metadata": {},
   "outputs": [
    {
     "data": {
      "text/html": [
       "<div>\n",
       "<style scoped>\n",
       "    .dataframe tbody tr th:only-of-type {\n",
       "        vertical-align: middle;\n",
       "    }\n",
       "\n",
       "    .dataframe tbody tr th {\n",
       "        vertical-align: top;\n",
       "    }\n",
       "\n",
       "    .dataframe thead th {\n",
       "        text-align: right;\n",
       "    }\n",
       "</style>\n",
       "<table border=\"1\" class=\"dataframe\">\n",
       "  <thead>\n",
       "    <tr style=\"text-align: right;\">\n",
       "      <th></th>\n",
       "      <th>Fraction_fatal</th>\n",
       "    </tr>\n",
       "    <tr>\n",
       "      <th>Make_Model</th>\n",
       "      <th></th>\n",
       "    </tr>\n",
       "  </thead>\n",
       "  <tbody>\n",
       "    <tr>\n",
       "      <th>Bell-12</th>\n",
       "      <td>0.000000</td>\n",
       "    </tr>\n",
       "    <tr>\n",
       "      <th>Bell-204</th>\n",
       "      <td>0.333333</td>\n",
       "    </tr>\n",
       "    <tr>\n",
       "      <th>Bell-204 UH 1B</th>\n",
       "      <td>0.000000</td>\n",
       "    </tr>\n",
       "    <tr>\n",
       "      <th>Bell-204-B</th>\n",
       "      <td>0.000000</td>\n",
       "    </tr>\n",
       "    <tr>\n",
       "      <th>Bell-204B</th>\n",
       "      <td>0.312500</td>\n",
       "    </tr>\n",
       "    <tr>\n",
       "      <th>...</th>\n",
       "      <td>...</td>\n",
       "    </tr>\n",
       "    <tr>\n",
       "      <th>Bell-UH-IB</th>\n",
       "      <td>0.000000</td>\n",
       "    </tr>\n",
       "    <tr>\n",
       "      <th>Bell-UH1B</th>\n",
       "      <td>0.400000</td>\n",
       "    </tr>\n",
       "    <tr>\n",
       "      <th>Bell-UH1F</th>\n",
       "      <td>0.000000</td>\n",
       "    </tr>\n",
       "    <tr>\n",
       "      <th>Bell-UH1H</th>\n",
       "      <td>0.500000</td>\n",
       "    </tr>\n",
       "    <tr>\n",
       "      <th>Bell-XV-15 301</th>\n",
       "      <td>0.000000</td>\n",
       "    </tr>\n",
       "  </tbody>\n",
       "</table>\n",
       "<p>261 rows × 1 columns</p>\n",
       "</div>"
      ],
      "text/plain": [
       "                Fraction_fatal\n",
       "Make_Model                    \n",
       "Bell-12               0.000000\n",
       "Bell-204              0.333333\n",
       "Bell-204 UH 1B        0.000000\n",
       "Bell-204-B            0.000000\n",
       "Bell-204B             0.312500\n",
       "...                        ...\n",
       "Bell-UH-IB            0.000000\n",
       "Bell-UH1B             0.400000\n",
       "Bell-UH1F             0.000000\n",
       "Bell-UH1H             0.500000\n",
       "Bell-XV-15 301        0.000000\n",
       "\n",
       "[261 rows x 1 columns]"
      ]
     },
     "execution_count": 14,
     "metadata": {},
     "output_type": "execute_result"
    }
   ],
   "source": [
    "Bell_ave_fraction_fatal = dfB[[\"Make_Model\",\"Fraction_fatal\"]].groupby(\"Make_Model\").mean()\n",
    "Bell_ave_fraction_fatal"
   ]
  },
  {
   "cell_type": "code",
   "execution_count": 15,
   "metadata": {},
   "outputs": [
    {
     "name": "stderr",
     "output_type": "stream",
     "text": [
      "/var/folders/0_/jyfznr0x5q53rj2pvwf26qbw0000gn/T/ipykernel_52366/3314337314.py:1: FutureWarning: Calling float on a single element Series is deprecated and will raise a TypeError in the future. Use float(ser.iloc[0]) instead\n",
      "  x = pd.DataFrame([(x, float(Bell_ave_fraction_fatal.loc[x])) for x in top_five]).sort_values(by=1)\n"
     ]
    }
   ],
   "source": [
    "x = pd.DataFrame([(x, float(Bell_ave_fraction_fatal.loc[x])) for x in top_five]).sort_values(by=1)"
   ]
  },
  {
   "cell_type": "code",
   "execution_count": 16,
   "metadata": {},
   "outputs": [
    {
     "data": {
      "text/plain": [
       "[<matplotlib.axis.YTick at 0x16b4d6660>,\n",
       " <matplotlib.axis.YTick at 0x16b182a50>,\n",
       " <matplotlib.axis.YTick at 0x1683f54c0>,\n",
       " <matplotlib.axis.YTick at 0x16b512720>,\n",
       " <matplotlib.axis.YTick at 0x16b513020>,\n",
       " <matplotlib.axis.YTick at 0x16b513980>,\n",
       " <matplotlib.axis.YTick at 0x16b512c60>,\n",
       " <matplotlib.axis.YTick at 0x16b18df40>,\n",
       " <matplotlib.axis.YTick at 0x16b534ce0>,\n",
       " <matplotlib.axis.YTick at 0x16b535670>,\n",
       " <matplotlib.axis.YTick at 0x16b535fd0>,\n",
       " <matplotlib.axis.YTick at 0x16b5368a0>,\n",
       " <matplotlib.axis.YTick at 0x16b3cef30>]"
      ]
     },
     "execution_count": 16,
     "metadata": {},
     "output_type": "execute_result"
    },
    {
     "data": {
      "image/png": "[encoded data removed]",
      "text/plain": [
       "<Figure size 1000x400 with 1 Axes>"
      ]
     },
     "metadata": {},
     "output_type": "display_data"
    }
   ],
   "source": [
    "fig, ax = plt.subplots(figsize = (10,4))\n",
    "\n",
    "sns.barplot(data=x, x=0, y = 1)\n",
    "ax.set_yticks(np.arange(0,0.26, 0.02))"
   ]
  },
  {
   "cell_type": "code",
   "execution_count": 17,
   "metadata": {},
   "outputs": [],
   "source": [
    "dfP = df[df['Make'] == 'Piper']"
   ]
  },
  {
   "cell_type": "code",
   "execution_count": 18,
   "metadata": {},
   "outputs": [
    {
     "data": {
      "text/plain": [
       "Index(['Piper-PA-28-140', 'Piper-PA-18-150', 'Piper-PA-18', 'Piper-PA-28-180',\n",
       "       'Piper-PA-28-161'],\n",
       "      dtype='object', name='Make_Model')"
      ]
     },
     "execution_count": 18,
     "metadata": {},
     "output_type": "execute_result"
    }
   ],
   "source": [
    "PiperGB = dfP.groupby('Make_Model').count().sort_values(by='Event.Id', ascending=False)\n",
    "top_five = PiperGB.index[:5]\n",
    "top_five"
   ]
  },
  {
   "cell_type": "code",
   "execution_count": 19,
   "metadata": {},
   "outputs": [
    {
     "data": {
      "text/html": [
       "<div>\n",
       "<style scoped>\n",
       "    .dataframe tbody tr th:only-of-type {\n",
       "        vertical-align: middle;\n",
       "    }\n",
       "\n",
       "    .dataframe tbody tr th {\n",
       "        vertical-align: top;\n",
       "    }\n",
       "\n",
       "    .dataframe thead th {\n",
       "        text-align: right;\n",
       "    }\n",
       "</style>\n",
       "<table border=\"1\" class=\"dataframe\">\n",
       "  <thead>\n",
       "    <tr style=\"text-align: right;\">\n",
       "      <th></th>\n",
       "      <th>Fraction_fatal</th>\n",
       "    </tr>\n",
       "    <tr>\n",
       "      <th>Make_Model</th>\n",
       "      <th></th>\n",
       "    </tr>\n",
       "  </thead>\n",
       "  <tbody>\n",
       "    <tr>\n",
       "      <th>Piper-18</th>\n",
       "      <td>0.375</td>\n",
       "    </tr>\n",
       "    <tr>\n",
       "      <th>Piper-18-150</th>\n",
       "      <td>1.000</td>\n",
       "    </tr>\n",
       "    <tr>\n",
       "      <th>Piper-180</th>\n",
       "      <td>0.000</td>\n",
       "    </tr>\n",
       "    <tr>\n",
       "      <th>Piper-20</th>\n",
       "      <td>0.000</td>\n",
       "    </tr>\n",
       "    <tr>\n",
       "      <th>Piper-22</th>\n",
       "      <td>0.000</td>\n",
       "    </tr>\n",
       "    <tr>\n",
       "      <th>...</th>\n",
       "      <td>...</td>\n",
       "    </tr>\n",
       "    <tr>\n",
       "      <th>Piper-PT-46</th>\n",
       "      <td>0.000</td>\n",
       "    </tr>\n",
       "    <tr>\n",
       "      <th>Piper-Saratoga II TC PA32-</th>\n",
       "      <td>0.000</td>\n",
       "    </tr>\n",
       "    <tr>\n",
       "      <th>Piper-Seneca</th>\n",
       "      <td>0.000</td>\n",
       "    </tr>\n",
       "    <tr>\n",
       "      <th>Piper-TG8-J3C-65</th>\n",
       "      <td>1.000</td>\n",
       "    </tr>\n",
       "    <tr>\n",
       "      <th>Piper-TITAN TORNADO II D</th>\n",
       "      <td>1.000</td>\n",
       "    </tr>\n",
       "  </tbody>\n",
       "</table>\n",
       "<p>646 rows × 1 columns</p>\n",
       "</div>"
      ],
      "text/plain": [
       "                            Fraction_fatal\n",
       "Make_Model                                \n",
       "Piper-18                             0.375\n",
       "Piper-18-150                         1.000\n",
       "Piper-180                            0.000\n",
       "Piper-20                             0.000\n",
       "Piper-22                             0.000\n",
       "...                                    ...\n",
       "Piper-PT-46                          0.000\n",
       "Piper-Saratoga II TC PA32-           0.000\n",
       "Piper-Seneca                         0.000\n",
       "Piper-TG8-J3C-65                     1.000\n",
       "Piper-TITAN TORNADO II D             1.000\n",
       "\n",
       "[646 rows x 1 columns]"
      ]
     },
     "execution_count": 19,
     "metadata": {},
     "output_type": "execute_result"
    }
   ],
   "source": [
    "Piper_ave_fraction_fatal = dfP[[\"Make_Model\",\"Fraction_fatal\"]].groupby(\"Make_Model\").mean()\n",
    "Piper_ave_fraction_fatal"
   ]
  },
  {
   "cell_type": "code",
   "execution_count": 20,
   "metadata": {},
   "outputs": [
    {
     "name": "stderr",
     "output_type": "stream",
     "text": [
      "/var/folders/0_/jyfznr0x5q53rj2pvwf26qbw0000gn/T/ipykernel_52366/2458020303.py:1: FutureWarning: Calling float on a single element Series is deprecated and will raise a TypeError in the future. Use float(ser.iloc[0]) instead\n",
      "  x = pd.DataFrame([(x, float(Piper_ave_fraction_fatal.loc[x])) for x in top_five]).sort_values(by=1)\n"
     ]
    }
   ],
   "source": [
    "x = pd.DataFrame([(x, float(Piper_ave_fraction_fatal.loc[x])) for x in top_five]).sort_values(by=1)"
   ]
  },
  {
   "cell_type": "code",
   "execution_count": 21,
   "metadata": {},
   "outputs": [
    {
     "data": {
      "text/plain": [
       "[<matplotlib.axis.YTick at 0x16b5121b0>,\n",
       " <matplotlib.axis.YTick at 0x16b54aa50>,\n",
       " <matplotlib.axis.YTick at 0x16b5378f0>,\n",
       " <matplotlib.axis.YTick at 0x16b5b2720>,\n",
       " <matplotlib.axis.YTick at 0x16b5b3020>,\n",
       " <matplotlib.axis.YTick at 0x16b5b3920>,\n",
       " <matplotlib.axis.YTick at 0x16b1cbda0>,\n",
       " <matplotlib.axis.YTick at 0x1683f4ad0>,\n",
       " <matplotlib.axis.YTick at 0x16b5b2060>,\n",
       " <matplotlib.axis.YTick at 0x16b5d12b0>,\n",
       " <matplotlib.axis.YTick at 0x16b5d1bb0>,\n",
       " <matplotlib.axis.YTick at 0x16b5d2540>,\n",
       " <matplotlib.axis.YTick at 0x16b5d2ed0>]"
      ]
     },
     "execution_count": 21,
     "metadata": {},
     "output_type": "execute_result"
    },
    {
     "data": {
      "image/png": "[encoded data removed]",
      "text/plain": [
       "<Figure size 1000x400 with 1 Axes>"
      ]
     },
     "metadata": {},
     "output_type": "display_data"
    }
   ],
   "source": [
    "fig, ax = plt.subplots(figsize = (10,4))\n",
    "\n",
    "sns.barplot(data=x, x=0, y = 1)\n",
    "ax.set_yticks(np.arange(0,0.26, 0.02))"
   ]
  },
  {
   "cell_type": "markdown",
   "metadata": {},
   "source": [
    "-----------------------------------------------"
   ]
  },
  {
   "cell_type": "code",
   "execution_count": 22,
   "metadata": {},
   "outputs": [
    {
     "data": {
      "text/html": [
       "<div>\n",
       "<style scoped>\n",
       "    .dataframe tbody tr th:only-of-type {\n",
       "        vertical-align: middle;\n",
       "    }\n",
       "\n",
       "    .dataframe tbody tr th {\n",
       "        vertical-align: top;\n",
       "    }\n",
       "\n",
       "    .dataframe thead th {\n",
       "        text-align: right;\n",
       "    }\n",
       "</style>\n",
       "<table border=\"1\" class=\"dataframe\">\n",
       "  <thead>\n",
       "    <tr style=\"text-align: right;\">\n",
       "      <th></th>\n",
       "      <th>Fraction_uninjured</th>\n",
       "    </tr>\n",
       "    <tr>\n",
       "      <th>Make_Model</th>\n",
       "      <th></th>\n",
       "    </tr>\n",
       "  </thead>\n",
       "  <tbody>\n",
       "    <tr>\n",
       "      <th>Cessna-0-1A</th>\n",
       "      <td>1.000000</td>\n",
       "    </tr>\n",
       "    <tr>\n",
       "      <th>Cessna-120</th>\n",
       "      <td>0.713836</td>\n",
       "    </tr>\n",
       "    <tr>\n",
       "      <th>Cessna-140</th>\n",
       "      <td>0.715539</td>\n",
       "    </tr>\n",
       "    <tr>\n",
       "      <th>Cessna-140A</th>\n",
       "      <td>0.743243</td>\n",
       "    </tr>\n",
       "    <tr>\n",
       "      <th>Cessna-145</th>\n",
       "      <td>0.000000</td>\n",
       "    </tr>\n",
       "    <tr>\n",
       "      <th>...</th>\n",
       "      <td>...</td>\n",
       "    </tr>\n",
       "    <tr>\n",
       "      <th>Cessna-U206D</th>\n",
       "      <td>1.000000</td>\n",
       "    </tr>\n",
       "    <tr>\n",
       "      <th>Cessna-U206E</th>\n",
       "      <td>0.473958</td>\n",
       "    </tr>\n",
       "    <tr>\n",
       "      <th>Cessna-U206F</th>\n",
       "      <td>0.531982</td>\n",
       "    </tr>\n",
       "    <tr>\n",
       "      <th>Cessna-U206G</th>\n",
       "      <td>0.542982</td>\n",
       "    </tr>\n",
       "    <tr>\n",
       "      <th>Cessna-U206G II</th>\n",
       "      <td>0.000000</td>\n",
       "    </tr>\n",
       "  </tbody>\n",
       "</table>\n",
       "<p>770 rows × 1 columns</p>\n",
       "</div>"
      ],
      "text/plain": [
       "                 Fraction_uninjured\n",
       "Make_Model                         \n",
       "Cessna-0-1A                1.000000\n",
       "Cessna-120                 0.713836\n",
       "Cessna-140                 0.715539\n",
       "Cessna-140A                0.743243\n",
       "Cessna-145                 0.000000\n",
       "...                             ...\n",
       "Cessna-U206D               1.000000\n",
       "Cessna-U206E               0.473958\n",
       "Cessna-U206F               0.531982\n",
       "Cessna-U206G               0.542982\n",
       "Cessna-U206G II            0.000000\n",
       "\n",
       "[770 rows x 1 columns]"
      ]
     },
     "execution_count": 22,
     "metadata": {},
     "output_type": "execute_result"
    }
   ],
   "source": [
    "dfC = df[df['Make'] == 'Cessna']\n",
    "CessnaGB = dfC.groupby('Make_Model').count().sort_values(by='Event.Id', ascending=False)\n",
    "top_five = CessnaGB.index[:5]\n",
    "top_five\n",
    "Cessna_ave_fraction_uninjured = dfC[[\"Make_Model\",\"Fraction_uninjured\"]].groupby(\"Make_Model\").mean()\n",
    "Cessna_ave_fraction_uninjured"
   ]
  },
  {
   "cell_type": "code",
   "execution_count": 23,
   "metadata": {},
   "outputs": [
    {
     "name": "stderr",
     "output_type": "stream",
     "text": [
      "/var/folders/0_/jyfznr0x5q53rj2pvwf26qbw0000gn/T/ipykernel_52366/1881170461.py:1: FutureWarning: Calling float on a single element Series is deprecated and will raise a TypeError in the future. Use float(ser.iloc[0]) instead\n",
      "  x = pd.DataFrame([(x, float(Cessna_ave_fraction_uninjured.loc[x])) for x in top_five]).sort_values(by=1)\n"
     ]
    }
   ],
   "source": [
    "x = pd.DataFrame([(x, float(Cessna_ave_fraction_uninjured.loc[x])) for x in top_five]).sort_values(by=1)"
   ]
  },
  {
   "cell_type": "code",
   "execution_count": 24,
   "metadata": {},
   "outputs": [
    {
     "data": {
      "text/plain": [
       "<Axes: xlabel='0', ylabel='1'>"
      ]
     },
     "execution_count": 24,
     "metadata": {},
     "output_type": "execute_result"
    },
    {
     "data": {
      "image/png": "[encoded data removed]",
      "text/plain": [
       "<Figure size 1000x400 with 1 Axes>"
      ]
     },
     "metadata": {},
     "output_type": "display_data"
    }
   ],
   "source": [
    "fig, ax = plt.subplots(figsize = (10,4))\n",
    "\n",
    "sns.barplot(data=x, x=0, y = 1)\n",
    "# ax.set_yticks(np.arange(0,0.26, 0.02))"
   ]
  },
  {
   "cell_type": "code",
   "execution_count": 25,
   "metadata": {},
   "outputs": [
    {
     "data": {
      "text/html": [
       "<div>\n",
       "<style scoped>\n",
       "    .dataframe tbody tr th:only-of-type {\n",
       "        vertical-align: middle;\n",
       "    }\n",
       "\n",
       "    .dataframe tbody tr th {\n",
       "        vertical-align: top;\n",
       "    }\n",
       "\n",
       "    .dataframe thead th {\n",
       "        text-align: right;\n",
       "    }\n",
       "</style>\n",
       "<table border=\"1\" class=\"dataframe\">\n",
       "  <thead>\n",
       "    <tr style=\"text-align: right;\">\n",
       "      <th></th>\n",
       "      <th>Fraction_uninjured</th>\n",
       "    </tr>\n",
       "    <tr>\n",
       "      <th>Make_Model</th>\n",
       "      <th></th>\n",
       "    </tr>\n",
       "  </thead>\n",
       "  <tbody>\n",
       "    <tr>\n",
       "      <th>Bell-12</th>\n",
       "      <td>0.833333</td>\n",
       "    </tr>\n",
       "    <tr>\n",
       "      <th>Bell-204</th>\n",
       "      <td>0.666667</td>\n",
       "    </tr>\n",
       "    <tr>\n",
       "      <th>Bell-204 UH 1B</th>\n",
       "      <td>1.000000</td>\n",
       "    </tr>\n",
       "    <tr>\n",
       "      <th>Bell-204-B</th>\n",
       "      <td>0.625000</td>\n",
       "    </tr>\n",
       "    <tr>\n",
       "      <th>Bell-204B</th>\n",
       "      <td>0.250000</td>\n",
       "    </tr>\n",
       "    <tr>\n",
       "      <th>...</th>\n",
       "      <td>...</td>\n",
       "    </tr>\n",
       "    <tr>\n",
       "      <th>Bell-UH-IB</th>\n",
       "      <td>0.000000</td>\n",
       "    </tr>\n",
       "    <tr>\n",
       "      <th>Bell-UH1B</th>\n",
       "      <td>0.600000</td>\n",
       "    </tr>\n",
       "    <tr>\n",
       "      <th>Bell-UH1F</th>\n",
       "      <td>0.000000</td>\n",
       "    </tr>\n",
       "    <tr>\n",
       "      <th>Bell-UH1H</th>\n",
       "      <td>0.500000</td>\n",
       "    </tr>\n",
       "    <tr>\n",
       "      <th>Bell-XV-15 301</th>\n",
       "      <td>0.000000</td>\n",
       "    </tr>\n",
       "  </tbody>\n",
       "</table>\n",
       "<p>261 rows × 1 columns</p>\n",
       "</div>"
      ],
      "text/plain": [
       "                Fraction_uninjured\n",
       "Make_Model                        \n",
       "Bell-12                   0.833333\n",
       "Bell-204                  0.666667\n",
       "Bell-204 UH 1B            1.000000\n",
       "Bell-204-B                0.625000\n",
       "Bell-204B                 0.250000\n",
       "...                            ...\n",
       "Bell-UH-IB                0.000000\n",
       "Bell-UH1B                 0.600000\n",
       "Bell-UH1F                 0.000000\n",
       "Bell-UH1H                 0.500000\n",
       "Bell-XV-15 301            0.000000\n",
       "\n",
       "[261 rows x 1 columns]"
      ]
     },
     "execution_count": 25,
     "metadata": {},
     "output_type": "execute_result"
    }
   ],
   "source": [
    "dfB = df[df['Make'] == 'Bell']\n",
    "BellGB = dfB.groupby('Make_Model').count().sort_values(by='Event.Id', ascending=False)\n",
    "top_five = BellGB.index[:5]\n",
    "top_five\n",
    "Bell_ave_fraction_uninjured = dfB[[\"Make_Model\",\"Fraction_uninjured\"]].groupby(\"Make_Model\").mean()\n",
    "Bell_ave_fraction_uninjured"
   ]
  },
  {
   "cell_type": "code",
   "execution_count": 26,
   "metadata": {},
   "outputs": [
    {
     "name": "stderr",
     "output_type": "stream",
     "text": [
      "/var/folders/0_/jyfznr0x5q53rj2pvwf26qbw0000gn/T/ipykernel_52366/876712669.py:1: FutureWarning: Calling float on a single element Series is deprecated and will raise a TypeError in the future. Use float(ser.iloc[0]) instead\n",
      "  x = pd.DataFrame([(x, float(Bell_ave_fraction_uninjured.loc[x])) for x in top_five]).sort_values(by=1)\n"
     ]
    }
   ],
   "source": [
    "x = pd.DataFrame([(x, float(Bell_ave_fraction_uninjured.loc[x])) for x in top_five]).sort_values(by=1)"
   ]
  },
  {
   "cell_type": "code",
   "execution_count": 27,
   "metadata": {},
   "outputs": [
    {
     "data": {
      "text/plain": [
       "<Axes: xlabel='0', ylabel='1'>"
      ]
     },
     "execution_count": 27,
     "metadata": {},
     "output_type": "execute_result"
    },
    {
     "data": {
      "image/png": "[encoded data removed]",
      "text/plain": [
       "<Figure size 1000x400 with 1 Axes>"
      ]
     },
     "metadata": {},
     "output_type": "display_data"
    }
   ],
   "source": [
    "fig, ax = plt.subplots(figsize = (10,4))\n",
    "\n",
    "sns.barplot(data=x, x=0, y = 1)\n",
    "# ax.set_yticks(np.arange(0,0.26, 0.02))"
   ]
  },
  {
   "cell_type": "code",
   "execution_count": 28,
   "metadata": {},
   "outputs": [],
   "source": [
    "# def hi(word):\n",
    "#     dfB = df[df['Make'] == word]\n",
    "#     BellGB = dfB.groupby('Make_Model').count().sort_values(by='Event.Id', ascending=False)\n",
    "#     top_five = BellGB.index[:5]\n",
    "#     top_five\n",
    "#     Bell_ave_fraction_uninjured = dfB[[\"Make_Model\",\"Fraction_uninjured\"]].groupby(\"Make_Model\").mean()\n",
    "#     Bell_ave_fraction_uninjured\n",
    "    \n",
    "#     x = pd.DataFrame([(x, float(Bell_ave_fraction_uninjured.loc[x])) for x in top_five]).sort_values(by=1)\n",
    "    \n",
    "#     fig, ax = plt.subplots(figsize = (10,4))\n",
    "\n",
    "#     return sns.barplot(data=x, x=0, y = 1)"
   ]
  },
  {
   "cell_type": "code",
   "execution_count": 29,
   "metadata": {},
   "outputs": [
    {
     "name": "stderr",
     "output_type": "stream",
     "text": [
      "/Users/zachariamwaura/Documents/Flatiron/Phase_1_Project/Phase1-Airplane-Zach-Jeff/scr/code.py:14: FutureWarning: Calling float on a single element Series is deprecated and will raise a TypeError in the future. Use float(ser.iloc[0]) instead\n",
      "  x = pd.DataFrame([(x, float(Bell_ave_fraction_uninjured.loc[x])) for x in top_five]).sort_values(by=1)\n"
     ]
    },
    {
     "data": {
      "text/plain": [
       "<Axes: xlabel='0', ylabel='1'>"
      ]
     },
     "execution_count": 29,
     "metadata": {},
     "output_type": "execute_result"
    },
    {
     "data": {
      "image/png": "[encoded data removed]",
      "text/plain": [
       "<Figure size 1000x400 with 1 Axes>"
      ]
     },
     "metadata": {},
     "output_type": "display_data"
    }
   ],
   "source": [
    "scd.hi(df, 'Piper')\n"
   ]
  },
  {
   "cell_type": "code",
   "execution_count": 30,
   "metadata": {},
   "outputs": [
    {
     "name": "stderr",
     "output_type": "stream",
     "text": [
      "/Users/zachariamwaura/Documents/Flatiron/Phase_1_Project/Phase1-Airplane-Zach-Jeff/scr/code.py:14: FutureWarning: Calling float on a single element Series is deprecated and will raise a TypeError in the future. Use float(ser.iloc[0]) instead\n",
      "  x = pd.DataFrame([(x, float(Bell_ave_fraction_uninjured.loc[x])) for x in top_five]).sort_values(by=1)\n"
     ]
    },
    {
     "data": {
      "text/plain": [
       "<Axes: xlabel='0', ylabel='1'>"
      ]
     },
     "execution_count": 30,
     "metadata": {},
     "output_type": "execute_result"
    },
    {
     "data": {
      "image/png": "[encoded data removed]",
      "text/plain": [
       "<Figure size 1000x400 with 1 Axes>"
      ]
     },
     "metadata": {},
     "output_type": "display_data"
    }
   ],
   "source": [
    "scd.hi(df, 'Cessna')"
   ]
  },
  {
   "cell_type": "code",
   "execution_count": null,
   "metadata": {},
   "outputs": [],
   "source": []
  }
 ],
 "metadata": {
  "kernelspec": {
   "display_name": "Python (mylearnenv)",
   "language": "python",
   "name": "mylearnenv"
  },
  "language_info": {
   "codemirror_mode": {
    "name": "ipython",
    "version": 3
   },
   "file_extension": ".py",
   "mimetype": "text/x-python",
   "name": "python",
   "nbconvert_exporter": "python",
   "pygments_lexer": "ipython3",
   "version": "3.12.4"
  }
 },
 "nbformat": 4,
 "nbformat_minor": 2
}
