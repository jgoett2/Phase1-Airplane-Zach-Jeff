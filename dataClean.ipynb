{
  "cells": [
    {
      "cell_type": "markdown",
      "metadata": {
        "id": "view-in-github",
        "colab_type": "text"
      },
      "source": [
        "<a href=\"https://colab.research.google.com/github/jgoett2/Phase1-Airplane-Zach-Jeff/blob/main/dataClean.ipynb\" target=\"_parent\"><img src=\"https://colab.research.google.com/assets/colab-badge.svg\" alt=\"Open In Colab\"/></a>"
      ]
    },
    {
      "cell_type": "markdown",
      "id": "be538398",
      "metadata": {
        "id": "be538398"
      },
      "source": [
        "# Data Cleaning the CSV File"
      ]
    },
    {
      "cell_type": "code",
      "source": [],
      "metadata": {
        "id": "vxd_mEhKMb2r"
      },
      "id": "vxd_mEhKMb2r",
      "execution_count": null,
      "outputs": []
    },
    {
      "cell_type": "markdown",
      "source": [
        "This was added in Google Colab!"
      ],
      "metadata": {
        "id": "UOUCYUiUMc1u"
      },
      "id": "UOUCYUiUMc1u"
    }
  ],
  "metadata": {
    "kernelspec": {
      "display_name": "Python (learn-env)",
      "language": "python",
      "name": "learn-env"
    },
    "language_info": {
      "codemirror_mode": {
        "name": "ipython",
        "version": 3
      },
      "file_extension": ".py",
      "mimetype": "text/x-python",
      "name": "python",
      "nbconvert_exporter": "python",
      "pygments_lexer": "ipython3",
      "version": "3.9.16"
    },
    "colab": {
      "provenance": [],
      "include_colab_link": true
    }
  },
  "nbformat": 4,
  "nbformat_minor": 5
}