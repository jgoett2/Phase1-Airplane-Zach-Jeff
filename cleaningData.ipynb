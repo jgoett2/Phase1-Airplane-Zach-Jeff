{
 "cells": [
  {
   "cell_type": "markdown",
   "id": "d8fa7349-14e8-4d81-b561-72ee992255bf",
   "metadata": {},
   "source": [
    "# Clean Data File"
   ]
  },
  {
   "cell_type": "markdown",
   "id": "651bc0c6-142b-4c21-af75-df94cbcfdd00",
   "metadata": {},
   "source": [
    "## Import Data"
   ]
  },
  {
   "cell_type": "markdown",
   "id": "eb2ee7a5-9e9e-42e9-9106-9f699cf8876e",
   "metadata": {},
   "source": [
    "## Filter for Accidents and Airplanes Only"
   ]
  },
  {
   "cell_type": "markdown",
   "id": "bd41496a-7d6c-43ec-92d7-d93da73162db",
   "metadata": {},
   "source": [
    "## Clean Strings for Make"
   ]
  },
  {
   "cell_type": "code",
   "execution_count": null,
   "id": "a6b38104-ebaf-4338-85b9-06d5354f9fb6",
   "metadata": {},
   "outputs": [],
   "source": []
  }
 ],
 "metadata": {
  "kernelspec": {
   "display_name": "Python 3 (ipykernel)",
   "language": "python",
   "name": "python3"
  },
  "language_info": {
   "codemirror_mode": {
    "name": "ipython",
    "version": 3
   },
   "file_extension": ".py",
   "mimetype": "text/x-python",
   "name": "python",
   "nbconvert_exporter": "python",
   "pygments_lexer": "ipython3",
   "version": "3.12.4"
  }
 },
 "nbformat": 4,
 "nbformat_minor": 5
}
