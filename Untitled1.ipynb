{
 "cells": [
  {
   "cell_type": "code",
   "execution_count": 1,
   "id": "ae38a334-5ef7-4de2-825e-14c89652f3ed",
   "metadata": {},
   "outputs": [],
   "source": [
    "import pandas as pd"
   ]
  },
  {
   "cell_type": "code",
   "execution_count": 3,
   "id": "640b1dd7-0efa-4173-8c36-230709e2620d",
   "metadata": {},
   "outputs": [
    {
     "name": "stderr",
     "output_type": "stream",
     "text": [
      "/var/folders/ym/68nrz1n97wj0gz5413bhpqs80000gn/T/ipykernel_17995/856227371.py:1: DtypeWarning: Columns (6,7,28) have mixed types. Specify dtype option on import or set low_memory=False.\n",
      "  df = pd.read_csv(\"Data/AviationData.csv\",encoding=\"latin1\")\n"
     ]
    }
   ],
   "source": [
    "df = pd.read_csv(\"Data/AviationData.csv\",encoding=\"latin1\")"
   ]
  },
  {
   "cell_type": "code",
   "execution_count": 10,
   "id": "ddc9873e-e73a-4618-91e8-4a662f4ae17f",
   "metadata": {},
   "outputs": [],
   "source": [
    "df.loc[0:4,\"Accident.Number\"] = df.loc[0:4,\"Accident.Number\"].str.lower()\n",
    "df.loc"
   ]
  },
  {
   "cell_type": "code",
   "execution_count": null,
   "id": "198d33f5-99c9-4730-9e61-64fe4d2da8f7",
   "metadata": {},
   "outputs": [],
   "source": []
  }
 ],
 "metadata": {
  "kernelspec": {
   "display_name": "Python 3 (ipykernel)",
   "language": "python",
   "name": "python3"
  },
  "language_info": {
   "codemirror_mode": {
    "name": "ipython",
    "version": 3
   },
   "file_extension": ".py",
   "mimetype": "text/x-python",
   "name": "python",
   "nbconvert_exporter": "python",
   "pygments_lexer": "ipython3",
   "version": "3.12.4"
  }
 },
 "nbformat": 4,
 "nbformat_minor": 5
}
