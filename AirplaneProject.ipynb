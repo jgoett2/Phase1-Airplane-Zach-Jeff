{
 "cells": [
  {
   "cell_type": "markdown",
   "metadata": {},
   "source": [
    "# Instructional Airplane Leasing Program"
   ]
  },
  {
   "cell_type": "markdown",
   "metadata": {},
   "source": [
    "## Overview"
   ]
  },
  {
   "cell_type": "markdown",
   "metadata": {},
   "source": [
    "This dataset details every accident investigated by the National Transportation Safety Board over the last 40 years.  This data details the make, models, weather conditions, flight phases, injuries, and deaths during each accident.  The data could potentially help organizations find correlations, and identify conditions of an airplane flight that make it safer.  \n",
    "\n",
    "In this analyis, we will use the data to help a flight school choose safe airplances for instructional flights.  Overall, we have these three findings:\n",
    "1. **Cessna** and **Piper** airplanes appear to offer better protection to its passengers during airplane accidents.\n",
    "2. Accidents that occur during **taxi**, **takeoff, and landing have the lowest  fatalities.  Accidents that occur during maneuvers and cruise phases have the highest fatality rates. \n",
    "3. Flights occurring during the summer months tend to have lower fatality rates that flights occuring during the winter months."
   ]
  },
  {
   "cell_type": "markdown",
   "metadata": {},
   "source": [
    "## Business Problem"
   ]
  },
  {
   "cell_type": "markdown",
   "metadata": {},
   "source": [
    "In order to choose safe airplanes for the flight school, we will investigate these business questions:\n",
    "1. How does the make of the aircraft affect airplane safety?\n",
    "2. How does the phase of flight affect the survivability of airplane accidents?\n",
    "3. How do the time of year and weather conditions affect the survival rate an airplane accident? \n",
    "\n",
    "To measure airplane safety, we will consider the protection offered by the airplane during an accident.  We will look at this three different ways\n",
    "- **Survive:** The fraction of accidents with no fatalities.  \n",
    "- **Survival Rate:** The fraction of passengers killed during an accident\n",
    "- **Injury Rate:** The fraction of passengers uninjured during an accident. "
   ]
  },
  {
   "cell_type": "markdown",
   "metadata": {},
   "source": [
    "## Data Understanding"
   ]
  },
  {
   "cell_type": "markdown",
   "metadata": {},
   "source": [
    "## Intake Data ?"
   ]
  },
  {
   "cell_type": "markdown",
   "metadata": {},
   "source": [
    "In this analysis we read in the entire AviationData dataset.  For each record, we use the following data:\n",
    "- Event Date\n",
    "- Make of Airplane\n",
    "- Accidents injured, killed, minor injuries, and uninjured passengers in each accident\n",
    "- Phase of Flight and weather conditions"
   ]
  },
  {
   "cell_type": "markdown",
   "metadata": {},
   "source": [
    "## Outcome Data"
   ]
  },
  {
   "cell_type": "markdown",
   "metadata": {},
   "source": [
    "## Analysis"
   ]
  },
  {
   "cell_type": "markdown",
   "metadata": {},
   "source": [
    "### Airplane Safety by Make of Aircraft"
   ]
  },
  {
   "cell_type": "markdown",
   "metadata": {},
   "source": [
    "### Airplane Safety during Phases of Flight"
   ]
  },
  {
   "cell_type": "markdown",
   "metadata": {},
   "source": [
    "### Airplane Safety during Different Months of the Year"
   ]
  },
  {
   "cell_type": "markdown",
   "metadata": {},
   "source": [
    "## Conclusions"
   ]
  },
  {
   "cell_type": "markdown",
   "metadata": {},
   "source": [
    "## Next Steps"
   ]
  },
  {
   "cell_type": "markdown",
   "metadata": {},
   "source": []
  }
 ],
 "metadata": {
  "language_info": {
   "name": "python"
  }
 },
 "nbformat": 4,
 "nbformat_minor": 2
}
